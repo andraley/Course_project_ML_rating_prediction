{
  "nbformat": 4,
  "nbformat_minor": 0,
  "metadata": {
    "colab": {
      "name": "Course_project_ML_rating_prediction",
      "provenance": [],
      "collapsed_sections": []
    },
    "kernelspec": {
      "display_name": "Python 3",
      "name": "python3"
    },
    "language_info": {
      "name": "python"
    }
  },
  "cells": [
    {
      "cell_type": "code",
      "metadata": {
        "colab": {
          "base_uri": "https://localhost:8080/"
        },
        "id": "87UW1Sw_UChy",
        "outputId": "d091f9ce-919c-47fe-b272-57e834bc6ff6"
      },
      "source": [
        "from google.colab import drive\n",
        "drive.mount('/content/drive')"
      ],
      "execution_count": 1,
      "outputs": [
        {
          "output_type": "stream",
          "name": "stdout",
          "text": [
            "Mounted at /content/drive\n"
          ]
        }
      ]
    },
    {
      "cell_type": "code",
      "metadata": {
        "colab": {
          "base_uri": "https://localhost:8080/"
        },
        "id": "lmIBEC_iFZu5",
        "outputId": "f3705351-153f-493f-f627-7d80ac4502e3"
      },
      "source": [
        "!pip install catboost"
      ],
      "execution_count": 2,
      "outputs": [
        {
          "output_type": "stream",
          "name": "stdout",
          "text": [
            "Collecting catboost\n",
            "  Downloading catboost-0.26.1-cp37-none-manylinux1_x86_64.whl (67.4 MB)\n",
            "\u001b[K     |████████████████████████████████| 67.4 MB 26 kB/s \n",
            "\u001b[?25hRequirement already satisfied: scipy in /usr/local/lib/python3.7/dist-packages (from catboost) (1.4.1)\n",
            "Requirement already satisfied: pandas>=0.24.0 in /usr/local/lib/python3.7/dist-packages (from catboost) (1.1.5)\n",
            "Requirement already satisfied: numpy>=1.16.0 in /usr/local/lib/python3.7/dist-packages (from catboost) (1.19.5)\n",
            "Requirement already satisfied: plotly in /usr/local/lib/python3.7/dist-packages (from catboost) (4.4.1)\n",
            "Requirement already satisfied: six in /usr/local/lib/python3.7/dist-packages (from catboost) (1.15.0)\n",
            "Requirement already satisfied: matplotlib in /usr/local/lib/python3.7/dist-packages (from catboost) (3.2.2)\n",
            "Requirement already satisfied: graphviz in /usr/local/lib/python3.7/dist-packages (from catboost) (0.10.1)\n",
            "Requirement already satisfied: python-dateutil>=2.7.3 in /usr/local/lib/python3.7/dist-packages (from pandas>=0.24.0->catboost) (2.8.2)\n",
            "Requirement already satisfied: pytz>=2017.2 in /usr/local/lib/python3.7/dist-packages (from pandas>=0.24.0->catboost) (2018.9)\n",
            "Requirement already satisfied: cycler>=0.10 in /usr/local/lib/python3.7/dist-packages (from matplotlib->catboost) (0.10.0)\n",
            "Requirement already satisfied: pyparsing!=2.0.4,!=2.1.2,!=2.1.6,>=2.0.1 in /usr/local/lib/python3.7/dist-packages (from matplotlib->catboost) (2.4.7)\n",
            "Requirement already satisfied: kiwisolver>=1.0.1 in /usr/local/lib/python3.7/dist-packages (from matplotlib->catboost) (1.3.2)\n",
            "Requirement already satisfied: retrying>=1.3.3 in /usr/local/lib/python3.7/dist-packages (from plotly->catboost) (1.3.3)\n",
            "Installing collected packages: catboost\n",
            "Successfully installed catboost-0.26.1\n"
          ]
        }
      ]
    },
    {
      "cell_type": "code",
      "metadata": {
        "id": "undTn81APp_q"
      },
      "source": [
        "import pandas as pd\n",
        "import numpy as np\n",
        "import matplotlib.pyplot as plt\n",
        "import dill\n",
        "\n",
        "from sklearn.feature_extraction.text import TfidfVectorizer\n",
        "from sklearn.metrics import accuracy_score, confusion_matrix, plot_confusion_matrix\n",
        "\n",
        "from catboost import CatBoostClassifier, Pool\n",
        "\n",
        "from sklearn.pipeline import Pipeline, FeatureUnion\n",
        "from sklearn.base import BaseEstimator, TransformerMixin\n",
        "from sklearn.impute import SimpleImputer"
      ],
      "execution_count": 3,
      "outputs": []
    },
    {
      "cell_type": "markdown",
      "metadata": {
        "id": "N5F4QXqb_2mg"
      },
      "source": [
        "Загрузам датасет и посмотрим на данные"
      ]
    },
    {
      "cell_type": "code",
      "metadata": {
        "id": "Kw6SIZWlSmt4"
      },
      "source": [
        "df_train = pd.read_csv(\"/content/drive/MyDrive/train.csv\")"
      ],
      "execution_count": 4,
      "outputs": []
    },
    {
      "cell_type": "code",
      "metadata": {
        "id": "GABzvRQM_X7y"
      },
      "source": [
        "df_valid = pd.read_csv(\"/content/drive/MyDrive/valid.csv\")"
      ],
      "execution_count": 5,
      "outputs": []
    },
    {
      "cell_type": "code",
      "metadata": {
        "id": "5FJf070c_10L"
      },
      "source": [
        "df = pd.concat([df_train, df_valid], ignore_index=True) "
      ],
      "execution_count": 6,
      "outputs": []
    },
    {
      "cell_type": "code",
      "metadata": {
        "id": "BK2ah-KV8dYF",
        "colab": {
          "base_uri": "https://localhost:8080/",
          "height": 206
        },
        "outputId": "c4181abd-4290-4a56-e090-d9e68d8fdbf0"
      },
      "source": [
        "df.head(5)"
      ],
      "execution_count": 7,
      "outputs": [
        {
          "output_type": "execute_result",
          "data": {
            "text/html": [
              "<div>\n",
              "<style scoped>\n",
              "    .dataframe tbody tr th:only-of-type {\n",
              "        vertical-align: middle;\n",
              "    }\n",
              "\n",
              "    .dataframe tbody tr th {\n",
              "        vertical-align: top;\n",
              "    }\n",
              "\n",
              "    .dataframe thead th {\n",
              "        text-align: right;\n",
              "    }\n",
              "</style>\n",
              "<table border=\"1\" class=\"dataframe\">\n",
              "  <thead>\n",
              "    <tr style=\"text-align: right;\">\n",
              "      <th></th>\n",
              "      <th>Id</th>\n",
              "      <th>Title</th>\n",
              "      <th>Body</th>\n",
              "      <th>Tags</th>\n",
              "      <th>CreationDate</th>\n",
              "      <th>Y</th>\n",
              "    </tr>\n",
              "  </thead>\n",
              "  <tbody>\n",
              "    <tr>\n",
              "      <th>0</th>\n",
              "      <td>34552656</td>\n",
              "      <td>Java: Repeat Task Every Random Seconds</td>\n",
              "      <td>&lt;p&gt;I'm already familiar with repeating tasks e...</td>\n",
              "      <td>&lt;java&gt;&lt;repeat&gt;</td>\n",
              "      <td>2016-01-01 00:21:59</td>\n",
              "      <td>LQ_CLOSE</td>\n",
              "    </tr>\n",
              "    <tr>\n",
              "      <th>1</th>\n",
              "      <td>34553034</td>\n",
              "      <td>Why are Java Optionals immutable?</td>\n",
              "      <td>&lt;p&gt;I'd like to understand why Java 8 Optionals...</td>\n",
              "      <td>&lt;java&gt;&lt;optional&gt;</td>\n",
              "      <td>2016-01-01 02:03:20</td>\n",
              "      <td>HQ</td>\n",
              "    </tr>\n",
              "    <tr>\n",
              "      <th>2</th>\n",
              "      <td>34553174</td>\n",
              "      <td>Text Overlay Image with Darkened Opacity React...</td>\n",
              "      <td>&lt;p&gt;I am attempting to overlay a title over an ...</td>\n",
              "      <td>&lt;javascript&gt;&lt;image&gt;&lt;overlay&gt;&lt;react-native&gt;&lt;opa...</td>\n",
              "      <td>2016-01-01 02:48:24</td>\n",
              "      <td>HQ</td>\n",
              "    </tr>\n",
              "    <tr>\n",
              "      <th>3</th>\n",
              "      <td>34553318</td>\n",
              "      <td>Why ternary operator in swift is so picky?</td>\n",
              "      <td>&lt;p&gt;The question is very simple, but I just cou...</td>\n",
              "      <td>&lt;swift&gt;&lt;operators&gt;&lt;whitespace&gt;&lt;ternary-operato...</td>\n",
              "      <td>2016-01-01 03:30:17</td>\n",
              "      <td>HQ</td>\n",
              "    </tr>\n",
              "    <tr>\n",
              "      <th>4</th>\n",
              "      <td>34553755</td>\n",
              "      <td>hide/show fab with scale animation</td>\n",
              "      <td>&lt;p&gt;I'm using custom floatingactionmenu. I need...</td>\n",
              "      <td>&lt;android&gt;&lt;material-design&gt;&lt;floating-action-but...</td>\n",
              "      <td>2016-01-01 05:21:48</td>\n",
              "      <td>HQ</td>\n",
              "    </tr>\n",
              "  </tbody>\n",
              "</table>\n",
              "</div>"
            ],
            "text/plain": [
              "         Id  ...         Y\n",
              "0  34552656  ...  LQ_CLOSE\n",
              "1  34553034  ...        HQ\n",
              "2  34553174  ...        HQ\n",
              "3  34553318  ...        HQ\n",
              "4  34553755  ...        HQ\n",
              "\n",
              "[5 rows x 6 columns]"
            ]
          },
          "metadata": {},
          "execution_count": 7
        }
      ]
    },
    {
      "cell_type": "code",
      "metadata": {
        "id": "M4end0AniDjF",
        "colab": {
          "base_uri": "https://localhost:8080/"
        },
        "outputId": "fdc2c31a-e31d-4d64-88cd-ed76a0fd84de"
      },
      "source": [
        "df.info()"
      ],
      "execution_count": 8,
      "outputs": [
        {
          "output_type": "stream",
          "name": "stdout",
          "text": [
            "<class 'pandas.core.frame.DataFrame'>\n",
            "RangeIndex: 60000 entries, 0 to 59999\n",
            "Data columns (total 6 columns):\n",
            " #   Column        Non-Null Count  Dtype \n",
            "---  ------        --------------  ----- \n",
            " 0   Id            60000 non-null  int64 \n",
            " 1   Title         60000 non-null  object\n",
            " 2   Body          60000 non-null  object\n",
            " 3   Tags          60000 non-null  object\n",
            " 4   CreationDate  60000 non-null  object\n",
            " 5   Y             60000 non-null  object\n",
            "dtypes: int64(1), object(5)\n",
            "memory usage: 2.7+ MB\n"
          ]
        }
      ]
    },
    {
      "cell_type": "markdown",
      "metadata": {
        "id": "77i5U5YteGVb"
      },
      "source": [
        "Посмотрим на целевую переменную"
      ]
    },
    {
      "cell_type": "code",
      "metadata": {
        "id": "GToxYFxUeFkf",
        "colab": {
          "base_uri": "https://localhost:8080/"
        },
        "outputId": "99893218-3f24-425c-df4e-9c4f0923e866"
      },
      "source": [
        "df['Y'].value_counts()"
      ],
      "execution_count": 9,
      "outputs": [
        {
          "output_type": "execute_result",
          "data": {
            "text/plain": [
              "HQ          20000\n",
              "LQ_CLOSE    20000\n",
              "LQ_EDIT     20000\n",
              "Name: Y, dtype: int64"
            ]
          },
          "metadata": {},
          "execution_count": 9
        }
      ]
    },
    {
      "cell_type": "markdown",
      "metadata": {
        "id": "-INFA1OYfdnW"
      },
      "source": [
        "Мы имеем три класса. Дисбаланс классов отсутствует. Приоброзуем эту колонку\n",
        "\n",
        "\n"
      ]
    },
    {
      "cell_type": "code",
      "metadata": {
        "id": "oaZIV5itfvbU"
      },
      "source": [
        "df_train.loc[df_train['Y'] == 'HQ', 'Y'] = 0\n",
        "df_train.loc[df_train['Y'] == 'LQ_CLOSE', 'Y'] = 1\n",
        "df_train.loc[df_train['Y'] == 'LQ_EDIT', 'Y'] = 2"
      ],
      "execution_count": 10,
      "outputs": []
    },
    {
      "cell_type": "code",
      "metadata": {
        "id": "kLmveRLfK4xN"
      },
      "source": [
        "df_train['Y'] = df_train['Y'].astype(int)"
      ],
      "execution_count": 11,
      "outputs": []
    },
    {
      "cell_type": "code",
      "metadata": {
        "id": "O0nVGn4PiANc"
      },
      "source": [
        "df_valid.loc[df_valid['Y'] == 'HQ', 'Y'] = 0\n",
        "df_valid.loc[df_valid['Y'] == 'LQ_CLOSE', 'Y'] = 1\n",
        "df_valid.loc[df_valid['Y'] == 'LQ_EDIT', 'Y'] = 2"
      ],
      "execution_count": 12,
      "outputs": []
    },
    {
      "cell_type": "code",
      "metadata": {
        "id": "AG9Bn1WQiAiU"
      },
      "source": [
        "df_valid['Y'] = df_valid['Y'].astype(int)"
      ],
      "execution_count": 13,
      "outputs": []
    },
    {
      "cell_type": "markdown",
      "metadata": {
        "id": "6qh2il1xhrQK"
      },
      "source": [
        "Создадим pipeline, в качестве модели используем catboost"
      ]
    },
    {
      "cell_type": "code",
      "metadata": {
        "id": "39CX09UsOkNO"
      },
      "source": [
        "class ColumnSelector(BaseEstimator, TransformerMixin):\n",
        "    \"\"\"\n",
        "    Transformer to select a single column from the data frame to perform additional transformations on\n",
        "    \"\"\"\n",
        "    def __init__(self, key):\n",
        "        self.key = key\n",
        "\n",
        "    def fit(self, X, y=None):\n",
        "        return self\n",
        "\n",
        "    def transform(self, X):\n",
        "        return X[self.key]\n",
        "    \n",
        "class TextImputer(BaseEstimator, TransformerMixin):\n",
        "    def __init__(self, key, value):\n",
        "        self.key = key\n",
        "        self.value = value\n",
        "    def fit(self, X, y=None):\n",
        "        return self\n",
        "    def transform(self, X):\n",
        "        X[self.key] = X[self.key].fillna(self.value)\n",
        "        return X"
      ],
      "execution_count": 14,
      "outputs": []
    },
    {
      "cell_type": "code",
      "metadata": {
        "id": "yfMLwriEOor2"
      },
      "source": [
        "\n",
        "title = Pipeline([\n",
        "                ('imputer', TextImputer('Title', '')),\n",
        "                ('selector', ColumnSelector(key='Title')),\n",
        "                ('tfidf', TfidfVectorizer())\n",
        "            ])\n",
        "\n",
        "body = Pipeline([\n",
        "                ('imputer', TextImputer('Body', '')),\n",
        "                ('selector', ColumnSelector(key='Body')),\n",
        "                ('tfidf', TfidfVectorizer())\n",
        "            ])\n",
        "\n",
        "feats = FeatureUnion([('Title', title),\n",
        "                      ('Body', body)])"
      ],
      "execution_count": 15,
      "outputs": []
    },
    {
      "cell_type": "code",
      "metadata": {
        "id": "cJu6ojBvUpf5"
      },
      "source": [
        "X_train = df_train\n",
        "y_train = df_train['Y']"
      ],
      "execution_count": 16,
      "outputs": []
    },
    {
      "cell_type": "code",
      "metadata": {
        "id": "gulACp14XhMT"
      },
      "source": [
        "X_test = df_valid\n",
        "y_test = df_valid['Y']"
      ],
      "execution_count": 17,
      "outputs": []
    },
    {
      "cell_type": "code",
      "metadata": {
        "id": "M9HetE4mWlI_"
      },
      "source": [
        "features = ['Title', 'Body']\n",
        "target = 'Y'"
      ],
      "execution_count": 18,
      "outputs": []
    },
    {
      "cell_type": "code",
      "metadata": {
        "id": "eFW4kAPQZPi8"
      },
      "source": [
        "model_params = {\n",
        "    'iterations': 250,\n",
        "    \"depth\": 7, \n",
        "    'loss_function': 'MultiClass',\n",
        "    'train_dir': 'crossentropy',\n",
        "    'random_seed': 71,\n",
        "    'silent': True,\n",
        "}"
      ],
      "execution_count": 19,
      "outputs": []
    },
    {
      "cell_type": "code",
      "metadata": {
        "colab": {
          "base_uri": "https://localhost:8080/"
        },
        "id": "6bV5N8u3UTMe",
        "outputId": "840f3473-3445-4057-f955-a2cd95ba844f"
      },
      "source": [
        "pipeline = Pipeline([\n",
        "    ('features',feats),\n",
        "    ('classifier',  CatBoostClassifier(**model_params)),\n",
        "])\n",
        "\n",
        "pipeline.fit(X_train, y_train)"
      ],
      "execution_count": 20,
      "outputs": [
        {
          "output_type": "execute_result",
          "data": {
            "text/plain": [
              "Pipeline(memory=None,\n",
              "         steps=[('features',\n",
              "                 FeatureUnion(n_jobs=None,\n",
              "                              transformer_list=[('Title',\n",
              "                                                 Pipeline(memory=None,\n",
              "                                                          steps=[('imputer',\n",
              "                                                                  TextImputer(key='Title',\n",
              "                                                                              value='')),\n",
              "                                                                 ('selector',\n",
              "                                                                  ColumnSelector(key='Title')),\n",
              "                                                                 ('tfidf',\n",
              "                                                                  TfidfVectorizer(analyzer='word',\n",
              "                                                                                  binary=False,\n",
              "                                                                                  decode_error='strict',\n",
              "                                                                                  dtype=<class 'numpy.float64'>,\n",
              "                                                                                  encoding='utf-8',\n",
              "                                                                                  input='content',\n",
              "                                                                                  lower...\n",
              "                                                                                  min_df=1,\n",
              "                                                                                  ngram_range=(1,\n",
              "                                                                                               1),\n",
              "                                                                                  norm='l2',\n",
              "                                                                                  preprocessor=None,\n",
              "                                                                                  smooth_idf=True,\n",
              "                                                                                  stop_words=None,\n",
              "                                                                                  strip_accents=None,\n",
              "                                                                                  sublinear_tf=False,\n",
              "                                                                                  token_pattern='(?u)\\\\b\\\\w\\\\w+\\\\b',\n",
              "                                                                                  tokenizer=None,\n",
              "                                                                                  use_idf=True,\n",
              "                                                                                  vocabulary=None))],\n",
              "                                                          verbose=False))],\n",
              "                              transformer_weights=None, verbose=False)),\n",
              "                ('classifier',\n",
              "                 <catboost.core.CatBoostClassifier object at 0x7fd201f51f90>)],\n",
              "         verbose=False)"
            ]
          },
          "metadata": {},
          "execution_count": 20
        }
      ]
    },
    {
      "cell_type": "code",
      "metadata": {
        "id": "DSySnvt4XMcv"
      },
      "source": [
        "predictions = pipeline.predict(X_test)"
      ],
      "execution_count": 21,
      "outputs": []
    },
    {
      "cell_type": "markdown",
      "metadata": {
        "id": "zUvtsx7miO97"
      },
      "source": [
        "Для оценки модели применим метрику Accuracy, так как у нас есть 3 класса"
      ]
    },
    {
      "cell_type": "code",
      "metadata": {
        "colab": {
          "base_uri": "https://localhost:8080/"
        },
        "id": "VODvCgqGX7Bg",
        "outputId": "453ec2b7-dad1-4124-bfab-c80839b7c9e2"
      },
      "source": [
        "print(f'Точность: {accuracy_score(predictions, y_test)*100:.2f}%')"
      ],
      "execution_count": 22,
      "outputs": [
        {
          "output_type": "stream",
          "name": "stdout",
          "text": [
            "Точность: 82.73%\n"
          ]
        }
      ]
    },
    {
      "cell_type": "code",
      "metadata": {
        "colab": {
          "base_uri": "https://localhost:8080/",
          "height": 313
        },
        "id": "K08PitihkF8_",
        "outputId": "d0a2d740-5bdc-4942-968e-937bc79b2ff0"
      },
      "source": [
        "plot_confusion_matrix(pipeline, X_test, y_test, values_format='d')\n",
        "plt.title(f\"Confusion Matrix\")"
      ],
      "execution_count": 23,
      "outputs": [
        {
          "output_type": "execute_result",
          "data": {
            "text/plain": [
              "Text(0.5, 1.0, 'Confusion Matrix')"
            ]
          },
          "metadata": {},
          "execution_count": 23
        },
        {
          "output_type": "display_data",
          "data": {
            "image/png": "[encoded data removed]",
            "text/plain": [
              "<Figure size 432x288 with 2 Axes>"
            ]
          },
          "metadata": {
            "needs_background": "light"
          }
        }
      ]
    },
    {
      "cell_type": "markdown",
      "metadata": {
        "id": "J70tRtDJx6U_"
      },
      "source": [
        "Из матрици видно что наихудшим классом для определения является LQ_CLOSE. Его меньшее количество истено положительных, а так с ним наибольшее сробатова как ложно-положительных так и ложно-отрицательных."
      ]
    },
    {
      "cell_type": "markdown",
      "metadata": {
        "id": "2S4RfEVEjx8i"
      },
      "source": [
        "Сохраним нашу модель"
      ]
    },
    {
      "cell_type": "code",
      "metadata": {
        "id": "SGw7ey2FhiZl"
      },
      "source": [
        "with open(\"logreg_pipeline.dill\", \"wb\") as f:\n",
        "    dill.dump(pipeline, f)"
      ],
      "execution_count": 24,
      "outputs": []
    }
  ]
}